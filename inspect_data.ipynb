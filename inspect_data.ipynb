{
 "cells": [
  {
   "cell_type": "code",
   "execution_count": 2,
   "id": "1f65f367",
   "metadata": {},
   "outputs": [],
   "source": [
    "\"\"\"\n",
    "Get the packages we need to manipulate the dataset \n",
    "\"\"\"\n",
    "import numpy as np \n",
    "import pandas as pd \n",
    "import os \n",
    "from sklearn.cluster import KMeans\n",
    "import matplotlib.pyplot as plt\n",
    "from sklearn.mixture import GaussianMixture"
   ]
  },
  {
   "cell_type": "code",
   "execution_count": 3,
   "id": "94c93ca3",
   "metadata": {},
   "outputs": [
    {
     "name": "stdout",
     "output_type": "stream",
     "text": [
      "DATA_PATH is good path\n"
     ]
    }
   ],
   "source": [
    "\"\"\"\n",
    "Specify the directories for data. These are universal for our repository-\n",
    "this is the only thing you should not change.\n",
    "\"\"\"\n",
    "\n",
    "#rewrite this in the preferred way using os.join and os.path \n",
    "\n",
    "DATA_DIR = './' + 'raw_data'\n",
    "\n",
    "DATA_NAME = '/CreditCard_data.csv'\n",
    "\"\"\"\n",
    "The sample Dataset summarizes the usage behavior of about\n",
    "9000 active credit card holders during the last 6 months\n",
    "\"\"\"\n",
    "\n",
    "DATA_PATH = DATA_DIR + DATA_NAME\n",
    "\n",
    "os.listdir(DATA_DIR)\n",
    "\n",
    "if os.path.isfile(DATA_PATH): \n",
    "    print('DATA_PATH is good path')\n",
    "else:\n",
    "    raise ValueError('DATA_PATH is not valid path')\n"
   ]
  },
  {
   "cell_type": "code",
   "execution_count": 5,
   "id": "5101c310",
   "metadata": {},
   "outputs": [
    {
     "name": "stdout",
     "output_type": "stream",
     "text": [
      "Shape of the data is : (8950, 18) \n",
      "\n",
      "The attributes of the data:\n",
      " Index(['CUST_ID', 'BALANCE', 'BALANCE_FREQUENCY', 'PURCHASES',\n",
      "       'ONEOFF_PURCHASES', 'INSTALLMENTS_PURCHASES', 'CASH_ADVANCE',\n",
      "       'PURCHASES_FREQUENCY', 'ONEOFF_PURCHASES_FREQUENCY',\n",
      "       'PURCHASES_INSTALLMENTS_FREQUENCY', 'CASH_ADVANCE_FREQUENCY',\n",
      "       'CASH_ADVANCE_TRX', 'PURCHASES_TRX', 'CREDIT_LIMIT', 'PAYMENTS',\n",
      "       'MINIMUM_PAYMENTS', 'PRC_FULL_PAYMENT', 'TENURE'],\n",
      "      dtype='object')\n"
     ]
    }
   ],
   "source": [
    "\"\"\"\n",
    "Define size of data sample to read-in. Use to_skip to define the logic. \n",
    "\n",
    "Import data as pandas dataframe for that format \n",
    "\"\"\"\n",
    "\n",
    "SAMPLE_SIZE = 10000\n",
    "\n",
    "def to_skip(index): \n",
    "    \"\"\"\n",
    "    Function to be used with pandas skiprows\n",
    "    \"\"\"\n",
    "    keeprow = False\n",
    "    \n",
    "    if index <= SAMPLE_SIZE:\n",
    "        keeprow = True\n",
    "    else:\n",
    "        keeprow = False\n",
    "    \n",
    "    return keeprow\n",
    "\n",
    "raw_data = pd.read_csv(DATA_PATH,nrows = SAMPLE_SIZE)\n",
    "                                              \n",
    "print('Shape of the data is :', raw_data.shape, '\\n')\n",
    "print('The attributes of the data:\\n', raw_data.columns)"
   ]
  },
  {
   "cell_type": "code",
   "execution_count": 6,
   "outputs": [
    {
     "data": {
      "text/plain": "  CUST_ID      BALANCE  BALANCE_FREQUENCY  PURCHASES  ONEOFF_PURCHASES  \\\n0  C10001    40.900749           0.818182      95.40              0.00   \n1  C10002  3202.467416           0.909091       0.00              0.00   \n2  C10003  2495.148862           1.000000     773.17            773.17   \n3  C10004  1666.670542           0.636364    1499.00           1499.00   \n4  C10005   817.714335           1.000000      16.00             16.00   \n5  C10006  1809.828751           1.000000    1333.28              0.00   \n6  C10007   627.260806           1.000000    7091.01           6402.63   \n7  C10008  1823.652743           1.000000     436.20              0.00   \n8  C10009  1014.926473           1.000000     861.49            661.49   \n9  C10010   152.225975           0.545455    1281.60           1281.60   \n\n   INSTALLMENTS_PURCHASES  CASH_ADVANCE  PURCHASES_FREQUENCY  \\\n0                   95.40      0.000000             0.166667   \n1                    0.00   6442.945483             0.000000   \n2                    0.00      0.000000             1.000000   \n3                    0.00    205.788017             0.083333   \n4                    0.00      0.000000             0.083333   \n5                 1333.28      0.000000             0.666667   \n6                  688.38      0.000000             1.000000   \n7                  436.20      0.000000             1.000000   \n8                  200.00      0.000000             0.333333   \n9                    0.00      0.000000             0.166667   \n\n   ONEOFF_PURCHASES_FREQUENCY  PURCHASES_INSTALLMENTS_FREQUENCY  \\\n0                    0.000000                          0.083333   \n1                    0.000000                          0.000000   \n2                    1.000000                          0.000000   \n3                    0.083333                          0.000000   \n4                    0.083333                          0.000000   \n5                    0.000000                          0.583333   \n6                    1.000000                          1.000000   \n7                    0.000000                          1.000000   \n8                    0.083333                          0.250000   \n9                    0.166667                          0.000000   \n\n   CASH_ADVANCE_FREQUENCY  CASH_ADVANCE_TRX  PURCHASES_TRX  CREDIT_LIMIT  \\\n0                0.000000                 0              2        1000.0   \n1                0.250000                 4              0        7000.0   \n2                0.000000                 0             12        7500.0   \n3                0.083333                 1              1        7500.0   \n4                0.000000                 0              1        1200.0   \n5                0.000000                 0              8        1800.0   \n6                0.000000                 0             64       13500.0   \n7                0.000000                 0             12        2300.0   \n8                0.000000                 0              5        7000.0   \n9                0.000000                 0              3       11000.0   \n\n      PAYMENTS  MINIMUM_PAYMENTS  PRC_FULL_PAYMENT  TENURE  \n0   201.802084        139.509787          0.000000      12  \n1  4103.032597       1072.340217          0.222222      12  \n2   622.066742        627.284787          0.000000      12  \n3     0.000000               NaN          0.000000      12  \n4   678.334763        244.791237          0.000000      12  \n5  1400.057770       2407.246035          0.000000      12  \n6  6354.314328        198.065894          1.000000      12  \n7   679.065082        532.033990          0.000000      12  \n8   688.278568        311.963409          0.000000      12  \n9  1164.770591        100.302262          0.000000      12  ",
      "text/html": "<div>\n<style scoped>\n    .dataframe tbody tr th:only-of-type {\n        vertical-align: middle;\n    }\n\n    .dataframe tbody tr th {\n        vertical-align: top;\n    }\n\n    .dataframe thead th {\n        text-align: right;\n    }\n</style>\n<table border=\"1\" class=\"dataframe\">\n  <thead>\n    <tr style=\"text-align: right;\">\n      <th></th>\n      <th>CUST_ID</th>\n      <th>BALANCE</th>\n      <th>BALANCE_FREQUENCY</th>\n      <th>PURCHASES</th>\n      <th>ONEOFF_PURCHASES</th>\n      <th>INSTALLMENTS_PURCHASES</th>\n      <th>CASH_ADVANCE</th>\n      <th>PURCHASES_FREQUENCY</th>\n      <th>ONEOFF_PURCHASES_FREQUENCY</th>\n      <th>PURCHASES_INSTALLMENTS_FREQUENCY</th>\n      <th>CASH_ADVANCE_FREQUENCY</th>\n      <th>CASH_ADVANCE_TRX</th>\n      <th>PURCHASES_TRX</th>\n      <th>CREDIT_LIMIT</th>\n      <th>PAYMENTS</th>\n      <th>MINIMUM_PAYMENTS</th>\n      <th>PRC_FULL_PAYMENT</th>\n      <th>TENURE</th>\n    </tr>\n  </thead>\n  <tbody>\n    <tr>\n      <th>0</th>\n      <td>C10001</td>\n      <td>40.900749</td>\n      <td>0.818182</td>\n      <td>95.40</td>\n      <td>0.00</td>\n      <td>95.40</td>\n      <td>0.000000</td>\n      <td>0.166667</td>\n      <td>0.000000</td>\n      <td>0.083333</td>\n      <td>0.000000</td>\n      <td>0</td>\n      <td>2</td>\n      <td>1000.0</td>\n      <td>201.802084</td>\n      <td>139.509787</td>\n      <td>0.000000</td>\n      <td>12</td>\n    </tr>\n    <tr>\n      <th>1</th>\n      <td>C10002</td>\n      <td>3202.467416</td>\n      <td>0.909091</td>\n      <td>0.00</td>\n      <td>0.00</td>\n      <td>0.00</td>\n      <td>6442.945483</td>\n      <td>0.000000</td>\n      <td>0.000000</td>\n      <td>0.000000</td>\n      <td>0.250000</td>\n      <td>4</td>\n      <td>0</td>\n      <td>7000.0</td>\n      <td>4103.032597</td>\n      <td>1072.340217</td>\n      <td>0.222222</td>\n      <td>12</td>\n    </tr>\n    <tr>\n      <th>2</th>\n      <td>C10003</td>\n      <td>2495.148862</td>\n      <td>1.000000</td>\n      <td>773.17</td>\n      <td>773.17</td>\n      <td>0.00</td>\n      <td>0.000000</td>\n      <td>1.000000</td>\n      <td>1.000000</td>\n      <td>0.000000</td>\n      <td>0.000000</td>\n      <td>0</td>\n      <td>12</td>\n      <td>7500.0</td>\n      <td>622.066742</td>\n      <td>627.284787</td>\n      <td>0.000000</td>\n      <td>12</td>\n    </tr>\n    <tr>\n      <th>3</th>\n      <td>C10004</td>\n      <td>1666.670542</td>\n      <td>0.636364</td>\n      <td>1499.00</td>\n      <td>1499.00</td>\n      <td>0.00</td>\n      <td>205.788017</td>\n      <td>0.083333</td>\n      <td>0.083333</td>\n      <td>0.000000</td>\n      <td>0.083333</td>\n      <td>1</td>\n      <td>1</td>\n      <td>7500.0</td>\n      <td>0.000000</td>\n      <td>NaN</td>\n      <td>0.000000</td>\n      <td>12</td>\n    </tr>\n    <tr>\n      <th>4</th>\n      <td>C10005</td>\n      <td>817.714335</td>\n      <td>1.000000</td>\n      <td>16.00</td>\n      <td>16.00</td>\n      <td>0.00</td>\n      <td>0.000000</td>\n      <td>0.083333</td>\n      <td>0.083333</td>\n      <td>0.000000</td>\n      <td>0.000000</td>\n      <td>0</td>\n      <td>1</td>\n      <td>1200.0</td>\n      <td>678.334763</td>\n      <td>244.791237</td>\n      <td>0.000000</td>\n      <td>12</td>\n    </tr>\n    <tr>\n      <th>5</th>\n      <td>C10006</td>\n      <td>1809.828751</td>\n      <td>1.000000</td>\n      <td>1333.28</td>\n      <td>0.00</td>\n      <td>1333.28</td>\n      <td>0.000000</td>\n      <td>0.666667</td>\n      <td>0.000000</td>\n      <td>0.583333</td>\n      <td>0.000000</td>\n      <td>0</td>\n      <td>8</td>\n      <td>1800.0</td>\n      <td>1400.057770</td>\n      <td>2407.246035</td>\n      <td>0.000000</td>\n      <td>12</td>\n    </tr>\n    <tr>\n      <th>6</th>\n      <td>C10007</td>\n      <td>627.260806</td>\n      <td>1.000000</td>\n      <td>7091.01</td>\n      <td>6402.63</td>\n      <td>688.38</td>\n      <td>0.000000</td>\n      <td>1.000000</td>\n      <td>1.000000</td>\n      <td>1.000000</td>\n      <td>0.000000</td>\n      <td>0</td>\n      <td>64</td>\n      <td>13500.0</td>\n      <td>6354.314328</td>\n      <td>198.065894</td>\n      <td>1.000000</td>\n      <td>12</td>\n    </tr>\n    <tr>\n      <th>7</th>\n      <td>C10008</td>\n      <td>1823.652743</td>\n      <td>1.000000</td>\n      <td>436.20</td>\n      <td>0.00</td>\n      <td>436.20</td>\n      <td>0.000000</td>\n      <td>1.000000</td>\n      <td>0.000000</td>\n      <td>1.000000</td>\n      <td>0.000000</td>\n      <td>0</td>\n      <td>12</td>\n      <td>2300.0</td>\n      <td>679.065082</td>\n      <td>532.033990</td>\n      <td>0.000000</td>\n      <td>12</td>\n    </tr>\n    <tr>\n      <th>8</th>\n      <td>C10009</td>\n      <td>1014.926473</td>\n      <td>1.000000</td>\n      <td>861.49</td>\n      <td>661.49</td>\n      <td>200.00</td>\n      <td>0.000000</td>\n      <td>0.333333</td>\n      <td>0.083333</td>\n      <td>0.250000</td>\n      <td>0.000000</td>\n      <td>0</td>\n      <td>5</td>\n      <td>7000.0</td>\n      <td>688.278568</td>\n      <td>311.963409</td>\n      <td>0.000000</td>\n      <td>12</td>\n    </tr>\n    <tr>\n      <th>9</th>\n      <td>C10010</td>\n      <td>152.225975</td>\n      <td>0.545455</td>\n      <td>1281.60</td>\n      <td>1281.60</td>\n      <td>0.00</td>\n      <td>0.000000</td>\n      <td>0.166667</td>\n      <td>0.166667</td>\n      <td>0.000000</td>\n      <td>0.000000</td>\n      <td>0</td>\n      <td>3</td>\n      <td>11000.0</td>\n      <td>1164.770591</td>\n      <td>100.302262</td>\n      <td>0.000000</td>\n      <td>12</td>\n    </tr>\n  </tbody>\n</table>\n</div>"
     },
     "execution_count": 6,
     "metadata": {},
     "output_type": "execute_result"
    }
   ],
   "source": [
    "\"\"\"\n",
    "Examine a sample of the data\n",
    "\"\"\"\n",
    "raw_data.head(10)"
   ],
   "metadata": {
    "collapsed": false,
    "pycharm": {
     "name": "#%%\n"
    }
   }
  },
  {
   "cell_type": "code",
   "id": "9e9f9b87",
   "metadata": {
    "pycharm": {
     "name": "#%%\n"
    }
   },
   "source": [
    "\"\"\"\n",
    "Process raw data according to the values which are missing. Define the features to keep based on initial report of\n",
    "completeness and information\n",
    "\"\"\"\n",
    "# raw_data.columns\n",
    "#\n",
    "#\n",
    "# to_keep = ['race','gender','age','weight','admission_type_id','discharge_disposition_id',\\\n",
    "#            'time_in_hospital','num_lab_procedures','num_procedures','num_medications',\n",
    "#            'number_outpatient','number_emergency','number_inpatient','diag_1','diag_2']\n",
    "\n"
   ],
   "execution_count": null,
   "outputs": []
  },
  {
   "cell_type": "code",
   "execution_count": 7,
   "id": "8788e366",
   "metadata": {},
   "outputs": [
    {
     "name": "stdout",
     "output_type": "stream",
     "text": [
      "Here are the features related to $$:\n",
      " ['BALANCE', 'PURCHASES', 'ONEOFF_PURCHASES', 'INSTALLMENTS_PURCHASES', 'CASH_ADVANCE', 'CREDIT_LIMIT', 'PAYMENTS', 'MINIMUM_PAYMENTS', 'PRC_FULL_PAYMENT'] \n",
      "\n",
      "Here are the features related to frequency: \n",
      " ['BALANCE_FREQUENCY', 'PURCHASES_FREQUENCY', 'ONEOFF_PURCHASES_FREQUENCY', 'PURCHASES_INSTALLMENTS_FREQUENCY', 'CASH_ADVANCE_FREQUENCY'] \n",
      "\n",
      "Here are the features not used: \n",
      " {'CUST_ID', 'PURCHASES_TRX', 'TENURE', 'CASH_ADVANCE_TRX'}\n"
     ]
    }
   ],
   "source": [
    "\"\"\"\n",
    "Define the features desired to keep, two group of features (in different scale) available:\n",
    "1. Absolute amount in dollar\n",
    "2. Rating of frequency \\in R([0,1])\n",
    "\n",
    "This cell is intended only for list manipulation - we actually slice the data in the next cell \n",
    "\"\"\" \n",
    "\n",
    "features = raw_data.columns\n",
    "\n",
    "#Here are the features related to the absolute amount of money\n",
    "#Some of them can be used as LABEL\n",
    "ft_basic =['BALANCE', 'PURCHASES',\n",
    "       'ONEOFF_PURCHASES', 'INSTALLMENTS_PURCHASES', 'CASH_ADVANCE',\n",
    "       'CREDIT_LIMIT', 'PAYMENTS',\n",
    "       'MINIMUM_PAYMENTS', 'PRC_FULL_PAYMENT']\n",
    "# the last one is the percent of full payment being paid\n",
    "# ft_basic_keep = ft_basic[:]\n",
    "\n",
    "#Here are the features related to the frequency\n",
    "ft_freq= ['BALANCE_FREQUENCY','PURCHASES_FREQUENCY', 'ONEOFF_PURCHASES_FREQUENCY',\n",
    "       'PURCHASES_INSTALLMENTS_FREQUENCY', 'CASH_ADVANCE_FREQUENCY']\n",
    "\n",
    "#Here are the features haven't been used\n",
    "ft_unused = set(list(features))-set(ft_basic)-set(ft_freq)\n",
    "\n",
    "# #Here are all the features we will keep or toss\n",
    "# ft_keep = ft_basic_keep + ft_med_keep\n",
    "# ft_toss = [x for x in features if (x not in ft_keep)]\n",
    "#\n",
    "print('Here are the features related to $$:\\n', ft_basic,'\\n')\n",
    "print('Here are the features related to frequency: \\n',ft_freq,'\\n')\n",
    "print('Here are the features not used: \\n', ft_unused)"
   ]
  },
  {
   "cell_type": "code",
   "execution_count": 8,
   "id": "70560f24",
   "metadata": {},
   "outputs": [
    {
     "data": {
      "text/plain": "       BALANCE  PURCHASES  ONEOFF_PURCHASES  INSTALLMENTS_PURCHASES  \\\n0    40.900749      95.40              0.00                   95.40   \n1  3202.467416       0.00              0.00                    0.00   \n2  2495.148862     773.17            773.17                    0.00   \n3  1666.670542    1499.00           1499.00                    0.00   \n4   817.714335      16.00             16.00                    0.00   \n5  1809.828751    1333.28              0.00                 1333.28   \n6   627.260806    7091.01           6402.63                  688.38   \n7  1823.652743     436.20              0.00                  436.20   \n8  1014.926473     861.49            661.49                  200.00   \n9   152.225975    1281.60           1281.60                    0.00   \n\n   CASH_ADVANCE  CREDIT_LIMIT     PAYMENTS  MINIMUM_PAYMENTS  PRC_FULL_PAYMENT  \n0      0.000000        1000.0   201.802084        139.509787          0.000000  \n1   6442.945483        7000.0  4103.032597       1072.340217          0.222222  \n2      0.000000        7500.0   622.066742        627.284787          0.000000  \n3    205.788017        7500.0     0.000000               NaN          0.000000  \n4      0.000000        1200.0   678.334763        244.791237          0.000000  \n5      0.000000        1800.0  1400.057770       2407.246035          0.000000  \n6      0.000000       13500.0  6354.314328        198.065894          1.000000  \n7      0.000000        2300.0   679.065082        532.033990          0.000000  \n8      0.000000        7000.0   688.278568        311.963409          0.000000  \n9      0.000000       11000.0  1164.770591        100.302262          0.000000  ",
      "text/html": "<div>\n<style scoped>\n    .dataframe tbody tr th:only-of-type {\n        vertical-align: middle;\n    }\n\n    .dataframe tbody tr th {\n        vertical-align: top;\n    }\n\n    .dataframe thead th {\n        text-align: right;\n    }\n</style>\n<table border=\"1\" class=\"dataframe\">\n  <thead>\n    <tr style=\"text-align: right;\">\n      <th></th>\n      <th>BALANCE</th>\n      <th>PURCHASES</th>\n      <th>ONEOFF_PURCHASES</th>\n      <th>INSTALLMENTS_PURCHASES</th>\n      <th>CASH_ADVANCE</th>\n      <th>CREDIT_LIMIT</th>\n      <th>PAYMENTS</th>\n      <th>MINIMUM_PAYMENTS</th>\n      <th>PRC_FULL_PAYMENT</th>\n    </tr>\n  </thead>\n  <tbody>\n    <tr>\n      <th>0</th>\n      <td>40.900749</td>\n      <td>95.40</td>\n      <td>0.00</td>\n      <td>95.40</td>\n      <td>0.000000</td>\n      <td>1000.0</td>\n      <td>201.802084</td>\n      <td>139.509787</td>\n      <td>0.000000</td>\n    </tr>\n    <tr>\n      <th>1</th>\n      <td>3202.467416</td>\n      <td>0.00</td>\n      <td>0.00</td>\n      <td>0.00</td>\n      <td>6442.945483</td>\n      <td>7000.0</td>\n      <td>4103.032597</td>\n      <td>1072.340217</td>\n      <td>0.222222</td>\n    </tr>\n    <tr>\n      <th>2</th>\n      <td>2495.148862</td>\n      <td>773.17</td>\n      <td>773.17</td>\n      <td>0.00</td>\n      <td>0.000000</td>\n      <td>7500.0</td>\n      <td>622.066742</td>\n      <td>627.284787</td>\n      <td>0.000000</td>\n    </tr>\n    <tr>\n      <th>3</th>\n      <td>1666.670542</td>\n      <td>1499.00</td>\n      <td>1499.00</td>\n      <td>0.00</td>\n      <td>205.788017</td>\n      <td>7500.0</td>\n      <td>0.000000</td>\n      <td>NaN</td>\n      <td>0.000000</td>\n    </tr>\n    <tr>\n      <th>4</th>\n      <td>817.714335</td>\n      <td>16.00</td>\n      <td>16.00</td>\n      <td>0.00</td>\n      <td>0.000000</td>\n      <td>1200.0</td>\n      <td>678.334763</td>\n      <td>244.791237</td>\n      <td>0.000000</td>\n    </tr>\n    <tr>\n      <th>5</th>\n      <td>1809.828751</td>\n      <td>1333.28</td>\n      <td>0.00</td>\n      <td>1333.28</td>\n      <td>0.000000</td>\n      <td>1800.0</td>\n      <td>1400.057770</td>\n      <td>2407.246035</td>\n      <td>0.000000</td>\n    </tr>\n    <tr>\n      <th>6</th>\n      <td>627.260806</td>\n      <td>7091.01</td>\n      <td>6402.63</td>\n      <td>688.38</td>\n      <td>0.000000</td>\n      <td>13500.0</td>\n      <td>6354.314328</td>\n      <td>198.065894</td>\n      <td>1.000000</td>\n    </tr>\n    <tr>\n      <th>7</th>\n      <td>1823.652743</td>\n      <td>436.20</td>\n      <td>0.00</td>\n      <td>436.20</td>\n      <td>0.000000</td>\n      <td>2300.0</td>\n      <td>679.065082</td>\n      <td>532.033990</td>\n      <td>0.000000</td>\n    </tr>\n    <tr>\n      <th>8</th>\n      <td>1014.926473</td>\n      <td>861.49</td>\n      <td>661.49</td>\n      <td>200.00</td>\n      <td>0.000000</td>\n      <td>7000.0</td>\n      <td>688.278568</td>\n      <td>311.963409</td>\n      <td>0.000000</td>\n    </tr>\n    <tr>\n      <th>9</th>\n      <td>152.225975</td>\n      <td>1281.60</td>\n      <td>1281.60</td>\n      <td>0.00</td>\n      <td>0.000000</td>\n      <td>11000.0</td>\n      <td>1164.770591</td>\n      <td>100.302262</td>\n      <td>0.000000</td>\n    </tr>\n  </tbody>\n</table>\n</div>"
     },
     "execution_count": 8,
     "metadata": {},
     "output_type": "execute_result"
    }
   ],
   "source": [
    "\"\"\"\n",
    "Subset the Raw Data: Here, we refine data according to the desired features to keep defined in the preivous cell. Then \n",
    "we type convert the columns in order to actually apply clustering to them. \n",
    "\"\"\"\n",
    "\n",
    "data = raw_data[ft_basic]\n",
    "ft_kept = data.columns\n",
    "data.head(10)"
   ]
  },
  {
   "cell_type": "code",
   "execution_count": 15,
   "id": "0c44af57",
   "metadata": {},
   "outputs": [
    {
     "name": "stdout",
     "output_type": "stream",
     "text": [
      "Issue Feature:\n",
      " CREDIT_LIMIT \n",
      " Int64Index([5203], dtype='int64') \n",
      " Num of null= 1 \n",
      "\n",
      "\n",
      "Issue Feature:\n",
      " MINIMUM_PAYMENTS \n",
      " Int64Index([   3,   45,   47,   54,   55,   56,   63,   93,   94,   97,\n",
      "            ...\n",
      "            8753, 8755, 8803, 8838, 8854, 8919, 8929, 8935, 8944, 8946],\n",
      "           dtype='int64', length=313) \n",
      " Num of null= 313 \n",
      "\n",
      "\n"
     ]
    }
   ],
   "source": [
    "\"\"\"\n",
    "Clean the Data: Here we identify rows with missing fields in the desired categories. First, nan/None type is filtered and \n",
    "the row number is added to a list of rows which will be skipped when reading in the data for processing\n",
    "\"\"\"\n",
    "\n",
    "#Iterate over the list of desired features to keep; extract the series aech time, and build the list of rows associated\n",
    "#to a missing data value available in that series. This is better than simply calling .dropna() one time \n",
    "\n",
    "rows_nan = list()\n",
    "#This is an iterative approach by checking each column - this can likely be done across the whole array simultaneously \n",
    "\n",
    "for feature in ft_kept:\n",
    "    feature_series = data[feature]\n",
    "    missing_bool = feature_series.isnull()\n",
    "    nan_indices = feature_series.index[missing_bool]\n",
    "    if not nan_indices.empty:\n",
    "        print(\"Issue Feature:\\n\", feature,'\\n', nan_indices, '\\n Num of null=', len(nan_indices), '\\n\\n')\n",
    "        rows_nan += list(nan_indices)\n",
    "\n",
    "# get rid of repetition and sort\n",
    "rows_nan = list(set(rows_nan))\n",
    "rows_nan.sort()\n",
    "\n",
    "# Get rid of rows containing null or empty\n",
    "data_clean = data.drop(rows_nan)\n",
    "\n",
    "# value_dictionary = dict()\n",
    "# for feature in ft_kept:\n",
    "#     feature_series = data[feature]\n",
    "#     unique_vals = list()\n",
    "#     for x in feature_series:\n",
    "#         if x in unique_vals:\n",
    "#             pass\n",
    "#         else:\n",
    "#             unique_vals.append(x)\n",
    "#     value_dictionary[feature] = unique_vals\n",
    "\n",
    "#Here are the available values in each feature that are stored \n",
    "# print(value_dictionary)"
   ]
  },
  {
   "cell_type": "code",
   "execution_count": 16,
   "outputs": [],
   "source": [
    "\"\"\"\n",
    "Here we create a clusterable dataset by converting into Numpy array.\n",
    "We also additionally extract one feature to be used as label\n",
    "Return: X: (NxD) data ready to be clustered\n",
    "        y: (Nx1) categorical label to examine clusters\n",
    "\"\"\"\n",
    "# specify one label from clean data feature\n",
    "ft_label = 'CREDIT_LIMIT'\n",
    "assert ft_label in ft_kept, \"Label feature not in features being used\"\n",
    "\n",
    "# the remaining are the real data feature\n",
    "ft_data = list(ft_kept).copy()\n",
    "ft_data.remove(ft_label)\n",
    "X = data_clean[ft_data].values.astype(np.float64)\n",
    "# label\n",
    "y = data_clean[ft_label].values\n",
    "\"\"\"\n",
    "Further grouping needs to be done to convert into categorical label\n",
    "\"\"\"\n",
    "\n",
    "assert not np.any(np.isnan(X)), \"Data contains NaN\"\n",
    "assert np.all(np.isfinite(X)), \"Data contains +/-Inf\""
   ],
   "metadata": {
    "collapsed": false,
    "pycharm": {
     "name": "#%%\n"
    }
   }
  },
  {
   "cell_type": "code",
   "execution_count": 17,
   "outputs": [],
   "source": [
    "# hyperparameter\n",
    "N = X.shape[0] #number of data\n",
    "d = X.shape[1] #dimension\n",
    "k = 10 # number of clusters"
   ],
   "metadata": {
    "collapsed": false,
    "pycharm": {
     "name": "#%%\n"
    }
   }
  },
  {
   "cell_type": "code",
   "execution_count": null,
   "outputs": [],
   "source": [
    "\"\"\"\n",
    "Pipeline for Kmeans clustering given input data X\n",
    "\"\"\"\n",
    "kmeans = KMeans(n_clusters=k, random_state=0).fit(X)\n",
    "center = kmeans.cluster_centers_"
   ],
   "metadata": {
    "collapsed": false,
    "pycharm": {
     "name": "#%%\n"
    }
   }
  },
  {
   "cell_type": "code",
   "execution_count": null,
   "outputs": [],
   "source": [
    "%matplotlib inline\n",
    "plt.figure(0)\n",
    "plt.plot(np.tile(np.arange(d),(k,1)).T,center.T, linewidth = 2)\n",
    "plt.xlabel('Feature Dimension', fontsize=14, fontweight='bold')\n",
    "plt.ylabel('Amount of money',fontsize=14, fontweight='bold')\n",
    "plt.title('KMeans-Clustering using {} centers'.format(k),fontsize=16, fontweight='bold')"
   ],
   "metadata": {
    "collapsed": false,
    "pycharm": {
     "name": "#%% plotting the result (separated from  doing clustering)\n"
    }
   }
  },
  {
   "cell_type": "code",
   "execution_count": null,
   "outputs": [],
   "source": [
    "\"\"\"\n",
    "Pipeline for GMM clustering given input data X\n",
    "\"\"\"\n",
    "gm = GaussianMixture(n_components=k, random_state=0).fit(X)\n",
    "gm_center = gm.means_"
   ],
   "metadata": {
    "collapsed": false,
    "pycharm": {
     "name": "#%%\n"
    }
   }
  },
  {
   "cell_type": "code",
   "execution_count": null,
   "outputs": [],
   "source": [
    "plt.figure(0)\n",
    "plt.plot(np.tile(np.arange(d),(k,1)).T,gm_center.T, linewidth = 2)\n",
    "plt.xlabel('Feature Dimension', fontsize=14, fontweight='bold')\n",
    "plt.ylabel('Amount of money',fontsize=14, fontweight='bold')\n",
    "plt.title('GMM-Clustering using {} centers'.format(k),fontsize=16, fontweight='bold')\n",
    "\n"
   ],
   "metadata": {
    "collapsed": false,
    "pycharm": {
     "name": "#%% plotting the result (separated from doing clustering)\n"
    }
   }
  },
  {
   "cell_type": "code",
   "execution_count": null,
   "outputs": [],
   "source": [],
   "metadata": {
    "collapsed": false,
    "pycharm": {
     "name": "#%%\n"
    }
   }
  }
 ],
 "metadata": {
  "kernelspec": {
   "name": "pycharm-5251f639",
   "language": "python",
   "display_name": "PyCharm (m393c_project)"
  },
  "language_info": {
   "codemirror_mode": {
    "name": "ipython",
    "version": 3
   },
   "file_extension": ".py",
   "mimetype": "text/x-python",
   "name": "python",
   "nbconvert_exporter": "python",
   "pygments_lexer": "ipython3",
   "version": "3.7.11"
  }
 },
 "nbformat": 4,
 "nbformat_minor": 5
}