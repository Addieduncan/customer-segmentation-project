{
 "cells": [
  {
   "cell_type": "code",
   "execution_count": 25,
   "id": "880c3745",
   "metadata": {},
   "outputs": [],
   "source": [
    "\"\"\"\n",
    "Import needed packages\n",
    "\"\"\"\n",
    "\n",
    "import numpy as np \n",
    "import pandas as pd \n",
    "import os \n",
    "from sklearn.cluster import KMeans\n",
    "import matplotlib.pyplot as plt\n",
    "from sklearn.mixture import GaussianMixture\n",
    "from sklearn.decomposition import TruncatedSVD \n"
   ]
  },
  {
   "cell_type": "code",
   "execution_count": 14,
   "id": "9f5132e6",
   "metadata": {},
   "outputs": [
    {
     "name": "stdout",
     "output_type": "stream",
     "text": [
      "CLEAN_DATA_PATH is a valid path\n"
     ]
    }
   ],
   "source": [
    "\"\"\"\n",
    "Specify the directories for data. These are universal for our repository-\n",
    "this is the only thing you should not change.\n",
    "\"\"\"\n",
    "\n",
    "CLEAN_DATA_DIR = './clean_data'\n",
    "\n",
    "CLEAN_DATA_FILE = '/clean_credit_data.csv'\n",
    "\n",
    "CLEAN_DATA_PATH = CLEAN_DATA_DIR + CLEAN_DATA_FILE\n",
    "\n",
    "\"\"\"\n",
    "The sample Dataset summarizes the usage behavior of about\n",
    "9000 active credit card holders during the last 6 months\n",
    "\"\"\"\n",
    "os.listdir(CLEAN_DATA_DIR)\n",
    "\n",
    "if os.path.isfile(CLEAN_DATA_PATH): \n",
    "    print('CLEAN_DATA_PATH is a valid path')\n",
    "else:\n",
    "    raise ValueError('DATA_PATH is not valid path')"
   ]
  },
  {
   "cell_type": "code",
   "execution_count": 19,
   "id": "ade7621a",
   "metadata": {},
   "outputs": [],
   "source": [
    "data_clean = pd.read_csv(CLEAN_DATA_PATH,index_col = False)\n",
    "#Must set the correct customer indices as the index, and save to csv with these indices. Then read this in to the csv \n",
    "#as the index "
   ]
  },
  {
   "cell_type": "code",
   "execution_count": null,
   "id": "967d3b2e",
   "metadata": {},
   "outputs": [],
   "source": []
  },
  {
   "cell_type": "code",
   "execution_count": null,
   "id": "306648fa",
   "metadata": {},
   "outputs": [],
   "source": []
  },
  {
   "cell_type": "code",
   "execution_count": 26,
   "id": "03e6e039",
   "metadata": {},
   "outputs": [
    {
     "name": "stdout",
     "output_type": "stream",
     "text": [
      "    BALANCE  PURCHASES  ONEOFF_PURCHASES  INSTALLMENTS_PURCHASES  \\\n",
      "0  0.002148   0.001945          0.000000                0.004240   \n",
      "1  0.168169   0.000000          0.000000                0.000000   \n",
      "2  0.131026   0.015766          0.018968                0.000000   \n",
      "3  0.042940   0.000326          0.000393                0.000000   \n",
      "4  0.095038   0.027188          0.000000                0.059257   \n",
      "5  0.032939   0.144598          0.157076                0.030595   \n",
      "6  0.095764   0.008895          0.000000                0.019387   \n",
      "7  0.053296   0.017567          0.016228                0.008889   \n",
      "8  0.007994   0.026134          0.031442                0.000000   \n",
      "9  0.067905   0.018763          0.000000                0.040894   \n",
      "\n",
      "   CASH_ADVANCE  CREDIT_LIMIT  PAYMENTS  MINIMUM_PAYMENTS  PRC_FULL_PAYMENT  \n",
      "0      0.000000      0.031720  0.003978          0.001826          0.000000  \n",
      "1      0.136685      0.232053  0.080892          0.014034          0.222222  \n",
      "2      0.000000      0.248748  0.012263          0.008210          0.000000  \n",
      "3      0.000000      0.038397  0.013373          0.003204          0.000000  \n",
      "4      0.000000      0.058431  0.027602          0.031506          0.000000  \n",
      "5      0.000000      0.449082  0.125278          0.002592          1.000000  \n",
      "6      0.000000      0.075125  0.013387          0.006963          0.000000  \n",
      "7      0.000000      0.232053  0.013569          0.004083          0.000000  \n",
      "8      0.000000      0.365609  0.022963          0.001312          0.000000  \n",
      "9      0.000000      0.038397  0.021357          0.028436          0.000000  \n"
     ]
    }
   ],
   "source": [
    "\n",
    "\"\"\"\n",
    "Rescale the data so that each feature has range [0,1]. \n",
    "This is called 'standardization' (different from normalization, which is mean zero variance 1). \n",
    "\"\"\"\n",
    "\n",
    "data_clean = (data_clean - data_clean.min())/(data_clean.max()-data_clean.min())\n",
    "print(data_clean.head(10))"
   ]
  },
  {
   "cell_type": "code",
   "execution_count": 62,
   "id": "ca3388ca",
   "metadata": {},
   "outputs": [
    {
     "name": "stdout",
     "output_type": "stream",
     "text": [
      "% Var Explained In First 5 Components [62.73747636 88.54310923 92.77752916 96.24256865 98.02367675]\n",
      "98.02367675381996% variance explained by 5 components\n"
     ]
    }
   ],
   "source": [
    "\"\"\" \n",
    "Run SVD on Dataset to Obtain Output. Check the percentage variance explained by components before using. \n",
    "\"\"\"\n",
    "#Decide rank of initial approximation desired, and the variance threshold used to choose the \n",
    "#final number of components \n",
    "start_rank = 5\n",
    "var_threshold = 95 \n",
    "\n",
    "\n",
    "#Make instance of SVD class from ScikitLearn\n",
    "SVD = TruncatedSVD(n_components = start_rank)\n",
    "#Runt the SVD \n",
    "SVD.fit(data_clean)\n",
    "var = SVD.explained_variance_ratio_\n",
    "total_var = np.array([100*np.sum(var[0:k+1]) for k in range(len(var))])\n",
    "print('% Var Explained In First '+str(start_rank)+' Components',total_var)\n",
    "\n",
    "rank = 0\n",
    "#Get rank which exceeds threshold \n",
    "for i in range(len(total_var)):\n",
    "    if total_var[i] >= var_threshold:\n",
    "        rank = i+1 \n",
    "    else:\n",
    "        pass \n",
    "if rank == 0: \n",
    "    print('No quantity of components leq to '+str(start_rank)+' can explain '+str(var_threshold)+'% variance')\n",
    "else:\n",
    "    print(str(total_var[rank-1])+'% variance '+'explained by '+str(rank)+' components')\n",
    "    \n",
    "data_s = SVD.transform(data_clean)\n"
   ]
  },
  {
   "cell_type": "code",
   "execution_count": null,
   "id": "1b52e054",
   "metadata": {},
   "outputs": [],
   "source": []
  },
  {
   "cell_type": "code",
   "execution_count": null,
   "id": "55686876",
   "metadata": {},
   "outputs": [],
   "source": []
  },
  {
   "cell_type": "code",
   "execution_count": null,
   "id": "c02b0e3f",
   "metadata": {},
   "outputs": [],
   "source": []
  },
  {
   "cell_type": "code",
   "execution_count": null,
   "id": "abd337df",
   "metadata": {},
   "outputs": [],
   "source": []
  },
  {
   "cell_type": "code",
   "execution_count": null,
   "id": "f783da2a",
   "metadata": {},
   "outputs": [],
   "source": []
  },
  {
   "cell_type": "code",
   "execution_count": null,
   "id": "f1168d27",
   "metadata": {},
   "outputs": [],
   "source": []
  },
  {
   "cell_type": "code",
   "execution_count": null,
   "id": "bb4cdadf",
   "metadata": {},
   "outputs": [],
   "source": []
  }
 ],
 "metadata": {
  "kernelspec": {
   "display_name": "Python 3 (ipykernel)",
   "language": "python",
   "name": "python3"
  },
  "language_info": {
   "codemirror_mode": {
    "name": "ipython",
    "version": 3
   },
   "file_extension": ".py",
   "mimetype": "text/x-python",
   "name": "python",
   "nbconvert_exporter": "python",
   "pygments_lexer": "ipython3",
   "version": "3.7.11"
  }
 },
 "nbformat": 4,
 "nbformat_minor": 5
}
