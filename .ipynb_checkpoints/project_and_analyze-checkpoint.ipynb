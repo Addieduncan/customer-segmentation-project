{
 "cells": [
  {
   "cell_type": "code",
   "execution_count": 25,
   "id": "c7e59327",
   "metadata": {},
   "outputs": [],
   "source": [
    "\"\"\"\n",
    "Import needed packages\n",
    "\"\"\"\n",
    "\n",
    "import numpy as np \n",
    "import pandas as pd \n",
    "import os \n",
    "from sklearn.cluster import KMeans\n",
    "import matplotlib.pyplot as plt\n",
    "from sklearn.mixture import GaussianMixture\n",
    "from sklearn.decomposition import TruncatedSVD \n"
   ]
  },
  {
   "cell_type": "code",
   "execution_count": 14,
   "id": "377365ec",
   "metadata": {},
   "outputs": [
    {
     "name": "stdout",
     "output_type": "stream",
     "text": [
      "CLEAN_DATA_PATH is a valid path\n"
     ]
    }
   ],
   "source": [
    "\"\"\"\n",
    "Specify the directories for data. These are universal for our repository-\n",
    "this is the only thing you should not change.\n",
    "\"\"\"\n",
    "\n",
    "CLEAN_DATA_DIR = './clean_data'\n",
    "\n",
    "CLEAN_DATA_FILE = '/clean_credit_data.csv'\n",
    "\n",
    "CLEAN_DATA_PATH = CLEAN_DATA_DIR + CLEAN_DATA_FILE\n",
    "\n",
    "\"\"\"\n",
    "The sample Dataset summarizes the usage behavior of about\n",
    "9000 active credit card holders during the last 6 months\n",
    "\"\"\"\n",
    "os.listdir(CLEAN_DATA_DIR)\n",
    "\n",
    "if os.path.isfile(CLEAN_DATA_PATH): \n",
    "    print('CLEAN_DATA_PATH is a valid path')\n",
    "else:\n",
    "    raise ValueError('DATA_PATH is not valid path')"
   ]
  },
  {
   "cell_type": "code",
   "execution_count": 19,
   "id": "09f0c406",
   "metadata": {},
   "outputs": [],
   "source": [
    "data_clean = pd.read_csv(CLEAN_DATA_PATH,index_col = False)\n",
    "#Must set the correct customer indices as the index, and save to csv with these indices. Then read this in to the csv \n",
    "#as the index "
   ]
  },
  {
   "cell_type": "code",
   "execution_count": null,
   "id": "fa897700",
   "metadata": {},
   "outputs": [],
   "source": []
  },
  {
   "cell_type": "code",
   "execution_count": null,
   "id": "b807834d",
   "metadata": {},
   "outputs": [],
   "source": []
  },
  {
   "cell_type": "code",
   "execution_count": 24,
   "id": "53bdef91",
   "metadata": {},
   "outputs": [
    {
     "name": "stdout",
     "output_type": "stream",
     "text": [
      "    BALANCE  PURCHASES  ONEOFF_PURCHASES  INSTALLMENTS_PURCHASES  \\\n",
      "0  0.002148   0.001945          0.000000                0.004240   \n",
      "1  0.168169   0.000000          0.000000                0.000000   \n",
      "2  0.131026   0.015766          0.018968                0.000000   \n",
      "3  0.042940   0.000326          0.000393                0.000000   \n",
      "4  0.095038   0.027188          0.000000                0.059257   \n",
      "5  0.032939   0.144598          0.157076                0.030595   \n",
      "6  0.095764   0.008895          0.000000                0.019387   \n",
      "7  0.053296   0.017567          0.016228                0.008889   \n",
      "8  0.007994   0.026134          0.031442                0.000000   \n",
      "9  0.067905   0.018763          0.000000                0.040894   \n",
      "\n",
      "   CASH_ADVANCE  CREDIT_LIMIT  PAYMENTS  MINIMUM_PAYMENTS  PRC_FULL_PAYMENT  \n",
      "0      0.000000      0.031720  0.003978          0.001826          0.000000  \n",
      "1      0.136685      0.232053  0.080892          0.014034          0.222222  \n",
      "2      0.000000      0.248748  0.012263          0.008210          0.000000  \n",
      "3      0.000000      0.038397  0.013373          0.003204          0.000000  \n",
      "4      0.000000      0.058431  0.027602          0.031506          0.000000  \n",
      "5      0.000000      0.449082  0.125278          0.002592          1.000000  \n",
      "6      0.000000      0.075125  0.013387          0.006963          0.000000  \n",
      "7      0.000000      0.232053  0.013569          0.004083          0.000000  \n",
      "8      0.000000      0.365609  0.022963          0.001312          0.000000  \n",
      "9      0.000000      0.038397  0.021357          0.028436          0.000000  \n"
     ]
    }
   ],
   "source": [
    "\n",
    "\"\"\"\n",
    "Rescale the data so that each feature has range [0,1]. \n",
    "This is called 'standardization' (different from normalization, which is mean zero variance 1). \n",
    "\"\"\"\n",
    "\n",
    "data_clean = (data_clean - data_clean.min())/(data_clean.max()-data_clean.min())\n",
    "print(data_clean.head(10))"
   ]
  },
  {
   "cell_type": "code",
   "execution_count": null,
   "id": "277d27e9",
   "metadata": {},
   "outputs": [],
   "source": [
    "\"\"\" \n",
    "Run SVD on Dataset to Obtain Output\n",
    "\"\"\"\n",
    "#Decide rank of approximation desired \n",
    "rank = 5\n",
    "#Make instance of SVD class from ScikitLearn\n",
    "SVD_obj = TruncatedSVD(n_components = rank)\n",
    "#Runt the SVD \n",
    "SVD_obj.fit(data_clean)\n",
    "\n"
   ]
  },
  {
   "cell_type": "code",
   "execution_count": null,
   "id": "d312d179",
   "metadata": {},
   "outputs": [],
   "source": []
  },
  {
   "cell_type": "code",
   "execution_count": null,
   "id": "71c61fd2",
   "metadata": {},
   "outputs": [],
   "source": []
  },
  {
   "cell_type": "code",
   "execution_count": null,
   "id": "31c9eeda",
   "metadata": {},
   "outputs": [],
   "source": []
  },
  {
   "cell_type": "code",
   "execution_count": null,
   "id": "9c7b92f2",
   "metadata": {},
   "outputs": [],
   "source": []
  },
  {
   "cell_type": "code",
   "execution_count": null,
   "id": "bddbfa02",
   "metadata": {},
   "outputs": [],
   "source": []
  },
  {
   "cell_type": "code",
   "execution_count": null,
   "id": "bfcafc49",
   "metadata": {},
   "outputs": [],
   "source": []
  },
  {
   "cell_type": "code",
   "execution_count": null,
   "id": "05c99bc7",
   "metadata": {},
   "outputs": [],
   "source": []
  }
 ],
 "metadata": {
  "kernelspec": {
   "display_name": "Python 3 (ipykernel)",
   "language": "python",
   "name": "python3"
  },
  "language_info": {
   "codemirror_mode": {
    "name": "ipython",
    "version": 3
   },
   "file_extension": ".py",
   "mimetype": "text/x-python",
   "name": "python",
   "nbconvert_exporter": "python",
   "pygments_lexer": "ipython3",
   "version": "3.7.11"
  }
 },
 "nbformat": 4,
 "nbformat_minor": 5
}
