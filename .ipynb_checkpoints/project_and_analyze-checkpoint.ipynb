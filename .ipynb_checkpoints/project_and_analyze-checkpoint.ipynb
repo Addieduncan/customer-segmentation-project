{
 "cells": [
  {
   "cell_type": "code",
   "execution_count": 1,
   "id": "0beb8fe0",
   "metadata": {},
   "outputs": [],
   "source": [
    "\"\"\"\n",
    "Import needed packages\n",
    "\"\"\"\n",
    "\n",
    "import numpy as np \n",
    "import pandas as pd \n",
    "import os \n",
    "from sklearn.cluster import KMeans\n",
    "import matplotlib.pyplot as plt\n",
    "from sklearn.mixture import GaussianMixture\n",
    "from sklearn.decomposition import TruncatedSVD \n"
   ]
  },
  {
   "cell_type": "code",
   "execution_count": 2,
   "id": "beb07ff9",
   "metadata": {},
   "outputs": [
    {
     "name": "stdout",
     "output_type": "stream",
     "text": [
      "CLEAN_DATA_PATH is a valid path\n"
     ]
    }
   ],
   "source": [
    "\"\"\"\n",
    "Specify the directories for data. These are universal for our repository-\n",
    "this is the only thing you should not change.\n",
    "\"\"\"\n",
    "\n",
    "CLEAN_DATA_DIR = './clean_data'\n",
    "\n",
    "CLEAN_DATA_FILE = '/clean_credit_data.csv'\n",
    "\n",
    "CLEAN_DATA_PATH = CLEAN_DATA_DIR + CLEAN_DATA_FILE\n",
    "\n",
    "\"\"\"\n",
    "The sample Dataset summarizes the usage behavior of about\n",
    "9000 active credit card holders during the last 6 months\n",
    "\"\"\"\n",
    "os.listdir(CLEAN_DATA_DIR)\n",
    "\n",
    "if os.path.isfile(CLEAN_DATA_PATH): \n",
    "    print('CLEAN_DATA_PATH is a valid path')\n",
    "else:\n",
    "    raise ValueError('DATA_PATH is not valid path')"
   ]
  },
  {
   "cell_type": "code",
   "execution_count": 3,
   "id": "294fda3a",
   "metadata": {},
   "outputs": [],
   "source": [
    "data_clean = pd.read_csv(CLEAN_DATA_PATH,index_col = False)\n",
    "#Must set the correct customer indices as the index, and save to csv with these indices. Then read this in to the csv \n",
    "#as the index "
   ]
  },
  {
   "cell_type": "code",
   "execution_count": null,
   "id": "d8a44076",
   "metadata": {},
   "outputs": [],
   "source": []
  },
  {
   "cell_type": "code",
   "execution_count": null,
   "id": "8dfb893c",
   "metadata": {},
   "outputs": [],
   "source": []
  },
  {
   "cell_type": "code",
   "execution_count": 4,
   "id": "bd3c96b7",
   "metadata": {},
   "outputs": [
    {
     "name": "stdout",
     "output_type": "stream",
     "text": [
      "    BALANCE  PURCHASES  ONEOFF_PURCHASES  INSTALLMENTS_PURCHASES  \\\n",
      "0  0.002148   0.001945          0.000000                0.004240   \n",
      "1  0.168169   0.000000          0.000000                0.000000   \n",
      "2  0.131026   0.015766          0.018968                0.000000   \n",
      "3  0.042940   0.000326          0.000393                0.000000   \n",
      "4  0.095038   0.027188          0.000000                0.059257   \n",
      "5  0.032939   0.144598          0.157076                0.030595   \n",
      "6  0.095764   0.008895          0.000000                0.019387   \n",
      "7  0.053296   0.017567          0.016228                0.008889   \n",
      "8  0.007994   0.026134          0.031442                0.000000   \n",
      "9  0.067905   0.018763          0.000000                0.040894   \n",
      "\n",
      "   CASH_ADVANCE  CREDIT_LIMIT  PAYMENTS  MINIMUM_PAYMENTS  PRC_FULL_PAYMENT  \n",
      "0      0.000000      0.031720  0.003978          0.001826          0.000000  \n",
      "1      0.136685      0.232053  0.080892          0.014034          0.222222  \n",
      "2      0.000000      0.248748  0.012263          0.008210          0.000000  \n",
      "3      0.000000      0.038397  0.013373          0.003204          0.000000  \n",
      "4      0.000000      0.058431  0.027602          0.031506          0.000000  \n",
      "5      0.000000      0.449082  0.125278          0.002592          1.000000  \n",
      "6      0.000000      0.075125  0.013387          0.006963          0.000000  \n",
      "7      0.000000      0.232053  0.013569          0.004083          0.000000  \n",
      "8      0.000000      0.365609  0.022963          0.001312          0.000000  \n",
      "9      0.000000      0.038397  0.021357          0.028436          0.000000  \n"
     ]
    }
   ],
   "source": [
    "\n",
    "\"\"\"\n",
    "Rescale the data so that each feature has range [0,1]. \n",
    "This is called 'standardization' (different from normalization, which is mean zero variance 1). \n",
    "\"\"\"\n",
    "\n",
    "data_clean = (data_clean - data_clean.min())/(data_clean.max()-data_clean.min())\n",
    "print(data_clean.head(10))"
   ]
  },
  {
   "cell_type": "code",
   "execution_count": 7,
   "id": "f423aac4",
   "metadata": {},
   "outputs": [
    {
     "name": "stdout",
     "output_type": "stream",
     "text": [
      "% Var Explained In First 7 Components [62.73747636 88.54310923 92.77752916 96.24256865 98.02367675 98.93873753\n",
      " 99.54676156]\n",
      "96.24256864817036% variance explained by 4 components\n"
     ]
    },
    {
     "ename": "NameError",
     "evalue": "name 'data_sr' is not defined",
     "output_type": "error",
     "traceback": [
      "\u001b[1;31m---------------------------------------------------------------------------\u001b[0m",
      "\u001b[1;31mNameError\u001b[0m                                 Traceback (most recent call last)",
      "\u001b[1;32m~\\AppData\\Local\\Temp\\ipykernel_20952\\10116027.py\u001b[0m in \u001b[0;36m<module>\u001b[1;34m\u001b[0m\n\u001b[0;32m     34\u001b[0m \u001b[1;31m#Calcualte the SVD up to start_rank; truncate to only the amount needed to explain the variance\u001b[0m\u001b[1;33m\u001b[0m\u001b[1;33m\u001b[0m\u001b[1;33m\u001b[0m\u001b[0m\n\u001b[0;32m     35\u001b[0m \u001b[0mX\u001b[0m \u001b[1;33m=\u001b[0m \u001b[0mSVD\u001b[0m\u001b[1;33m.\u001b[0m\u001b[0mtransform\u001b[0m\u001b[1;33m(\u001b[0m\u001b[0mdata_clean\u001b[0m\u001b[1;33m)\u001b[0m\u001b[1;33m\u001b[0m\u001b[1;33m\u001b[0m\u001b[0m\n\u001b[1;32m---> 36\u001b[1;33m \u001b[0mXred\u001b[0m \u001b[1;33m=\u001b[0m \u001b[0mdata_sr\u001b[0m\u001b[1;33m[\u001b[0m\u001b[1;33m:\u001b[0m\u001b[1;33m,\u001b[0m\u001b[1;36m0\u001b[0m\u001b[1;33m:\u001b[0m\u001b[0mrank\u001b[0m\u001b[1;33m]\u001b[0m\u001b[1;33m\u001b[0m\u001b[1;33m\u001b[0m\u001b[0m\n\u001b[0m",
      "\u001b[1;31mNameError\u001b[0m: name 'data_sr' is not defined"
     ]
    }
   ],
   "source": [
    "\"\"\" \n",
    "Run SVD on dataset to obtain dimension reduced data. \n",
    "Check the percentage variance explained by components and use only those needed\n",
    "to explain a desired quantity of variance \n",
    "\"\"\"\n",
    "#Decide rank of initial approximation desired, and the variance threshold used to choose the \n",
    "#final number of components \n",
    "start_rank = 7\n",
    "var_threshold = 95 \n",
    "\n",
    "#Make instance of SVD class from ScikitLearn\n",
    "SVD = TruncatedSVD(n_components = start_rank)\n",
    "#Run the decomposition \n",
    "SVD.fit(data_clean)\n",
    "\n",
    "#Calculate the percentage variance \n",
    "var = SVD.explained_variance_ratio_\n",
    "total_var = np.array([100*np.sum(var[0:k+1]) for k in range(len(var))])\n",
    "print('% Var Explained In First '+str(start_rank)+' Components',total_var)\n",
    "\n",
    "#Get rank which explains at least var_threshold percentage variance\n",
    "rank = 0\n",
    "for i in range(len(total_var)):\n",
    "    if total_var[i] >= var_threshold:\n",
    "        rank = i+1 \n",
    "        break\n",
    "    else:\n",
    "        pass \n",
    "if rank == 0: \n",
    "    print('No quantity of components leq to '+str(start_rank)+' can explain '+str(var_threshold)+'% variance')\n",
    "else:\n",
    "    print(str(total_var[rank-1])+'% variance '+'explained by '+str(rank)+' components')\n",
    "    \n",
    "#Calcualte the SVD up to start_rank; truncate to only the amount needed to explain the variance\n",
    "X = SVD.transform(data_clean)\n",
    "Xred = X[:,0:rank]"
   ]
  },
  {
   "cell_type": "code",
   "execution_count": 8,
   "id": "b38b67be",
   "metadata": {},
   "outputs": [
    {
     "ename": "NameError",
     "evalue": "name 'Xred' is not defined",
     "output_type": "error",
     "traceback": [
      "\u001b[1;31m---------------------------------------------------------------------------\u001b[0m",
      "\u001b[1;31mNameError\u001b[0m                                 Traceback (most recent call last)",
      "\u001b[1;32m~\\AppData\\Local\\Temp\\ipykernel_20952\\3861903201.py\u001b[0m in \u001b[0;36m<module>\u001b[1;34m\u001b[0m\n\u001b[0;32m      6\u001b[0m \u001b[1;33m\u001b[0m\u001b[0m\n\u001b[0;32m      7\u001b[0m \u001b[0mK\u001b[0m \u001b[1;33m=\u001b[0m \u001b[1;36m10\u001b[0m\u001b[1;33m\u001b[0m\u001b[1;33m\u001b[0m\u001b[0m\n\u001b[1;32m----> 8\u001b[1;33m \u001b[0mkmeans\u001b[0m \u001b[1;33m=\u001b[0m \u001b[0mKMeans\u001b[0m\u001b[1;33m(\u001b[0m\u001b[0mn_clusters\u001b[0m\u001b[1;33m=\u001b[0m\u001b[0mK\u001b[0m\u001b[1;33m,\u001b[0m \u001b[0mrandom_state\u001b[0m\u001b[1;33m=\u001b[0m\u001b[1;36m0\u001b[0m\u001b[1;33m)\u001b[0m\u001b[1;33m.\u001b[0m\u001b[0mfit\u001b[0m\u001b[1;33m(\u001b[0m\u001b[0mXred\u001b[0m\u001b[1;33m)\u001b[0m\u001b[1;33m\u001b[0m\u001b[1;33m\u001b[0m\u001b[0m\n\u001b[0m\u001b[0;32m      9\u001b[0m \u001b[0mcenters\u001b[0m \u001b[1;33m=\u001b[0m \u001b[0mkmeans\u001b[0m\u001b[1;33m.\u001b[0m\u001b[0mcluster_centers_\u001b[0m\u001b[1;33m\u001b[0m\u001b[1;33m\u001b[0m\u001b[0m\n\u001b[0;32m     10\u001b[0m \u001b[0mprint\u001b[0m\u001b[1;33m(\u001b[0m\u001b[0mcenters\u001b[0m\u001b[1;33m)\u001b[0m\u001b[1;33m\u001b[0m\u001b[1;33m\u001b[0m\u001b[0m\n",
      "\u001b[1;31mNameError\u001b[0m: name 'Xred' is not defined"
     ]
    }
   ],
   "source": [
    "\"\"\"\n",
    "\n",
    "Run a single kmeans clustering- define all items desired before iterating to obtain optimal clustering \n",
    "\n",
    "\"\"\"\n",
    "\n",
    "K = 10 \n",
    "kmeans = KMeans(n_clusters=K, random_state=0).fit(Xred)\n",
    "centers = kmeans.cluster_centers_\n",
    "\n",
    "\n",
    "\n",
    "#Get predictions for all rows of reduced data\n",
    "\n",
    "Xred_labels = kmeans.pred(Xred)\n",
    "\n"
   ]
  },
  {
   "cell_type": "code",
   "execution_count": 99,
   "id": "ff2011e9",
   "metadata": {},
   "outputs": [
    {
     "name": "stdout",
     "output_type": "stream",
     "text": [
      "[[ 4.47939501e-01 -7.82650513e-02 -7.99154421e-03 -2.66855126e-02\n",
      "  -4.97579970e-03  3.75521204e-03 -8.00045762e-06]\n",
      " [ 6.72535459e-02  1.92147748e-01  1.90264911e-03 -2.04745185e-02\n",
      "  -7.44498339e-03 -2.22115999e-03 -2.31072508e-03]\n",
      " [ 5.92827453e-01 -3.33323032e-02  3.72411261e-02 -3.47013196e-02\n",
      "  -6.78173421e-03  3.18001907e-03  1.68866572e-03]\n",
      " [ 1.74447678e-01  9.50911131e-02  1.61238328e-02  2.47391299e-02\n",
      "   1.10982367e-02  4.23024487e-03 -4.36692342e-04]\n",
      " [ 3.01507047e-02  9.28443483e-02 -1.52630087e-02 -1.26789282e-02\n",
      "  -7.40644899e-04 -3.17156399e-03 -1.56798916e-03]\n",
      " [ 1.54006583e-01  4.30564149e-02 -1.76275437e-02  3.74651130e-03\n",
      "   3.97283639e-02  1.41902395e-03  1.47654785e-03]\n",
      " [ 1.05857437e-01  3.10868245e-01 -2.77171976e-02  1.92778855e-02\n",
      "  -2.43608335e-02  1.20397660e-02  1.56457166e-02]\n",
      " [ 4.28815810e-01  2.85247676e-01  3.99175461e-02  2.06797598e-01\n",
      "   3.23069370e-02  2.08175931e-02  8.19236319e-03]\n",
      " [ 2.96211069e-01  2.34508046e-01 -1.67894844e-02  8.60018444e-03\n",
      "   1.22433099e-01  7.18965619e-03  6.15304933e-03]\n",
      " [ 5.99251858e-01  8.53073856e-03  5.52028427e-02  3.92275666e-02\n",
      "  -1.20587998e-02 -1.63717754e-03 -1.54148738e-03]]\n"
     ]
    }
   ],
   "source": [
    "\"\"\"\n",
    "\n",
    "Run a single GMM model before iterating to obtain optimal model \n",
    "\n",
    "\"\"\"\n",
    "M = 10 \n",
    "gm = GaussianMixture(n_components=M, random_state=0).fit(X)\n",
    "gm_centers = gm.means_\n",
    "print(gm_centers)\n"
   ]
  },
  {
   "cell_type": "code",
   "execution_count": null,
   "id": "88374c5d",
   "metadata": {},
   "outputs": [],
   "source": []
  },
  {
   "cell_type": "code",
   "execution_count": null,
   "id": "ede862d4",
   "metadata": {},
   "outputs": [],
   "source": []
  },
  {
   "cell_type": "code",
   "execution_count": null,
   "id": "e1ccde40",
   "metadata": {},
   "outputs": [],
   "source": []
  },
  {
   "cell_type": "code",
   "execution_count": null,
   "id": "1136242c",
   "metadata": {},
   "outputs": [],
   "source": []
  },
  {
   "cell_type": "code",
   "execution_count": null,
   "id": "d3ad76f5",
   "metadata": {},
   "outputs": [],
   "source": []
  }
 ],
 "metadata": {
  "kernelspec": {
   "display_name": "Python 3 (ipykernel)",
   "language": "python",
   "name": "python3"
  },
  "language_info": {
   "codemirror_mode": {
    "name": "ipython",
    "version": 3
   },
   "file_extension": ".py",
   "mimetype": "text/x-python",
   "name": "python",
   "nbconvert_exporter": "python",
   "pygments_lexer": "ipython3",
   "version": "3.7.11"
  }
 },
 "nbformat": 4,
 "nbformat_minor": 5
}
