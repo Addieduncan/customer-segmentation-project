{
 "cells": [
  {
   "cell_type": "code",
   "execution_count": 13,
   "id": "6218b794",
   "metadata": {},
   "outputs": [
    {
     "name": "stdout",
     "output_type": "stream",
     "text": [
      "[5 2 6 2 1 7 4 2 4 6 4 3 1 7 5 3 7 7 2 2]\n",
      "[[0.38100058 0.31171956]\n",
      " [0.10459089 0.17728529]\n",
      " [0.85343359 0.7014543 ]\n",
      " [0.07703229 0.61634907]\n",
      " [0.33185814 0.87379126]\n",
      " [0.03339595 0.81770391]\n",
      " [0.01284834 0.8510421 ]\n",
      " [0.59326197 0.55031251]\n",
      " [0.5240711  0.00280009]\n",
      " [0.62092605 0.76895277]\n",
      " [0.57376809 0.70916748]\n",
      " [0.97651516 0.38924535]\n",
      " [0.23527023 0.97292644]\n",
      " [0.51084425 0.45411996]\n",
      " [0.97800112 0.44136248]\n",
      " [0.38219621 0.29177383]\n",
      " [0.05318635 0.84173997]\n",
      " [0.2176963  0.37236841]\n",
      " [0.3727076  0.13412566]\n",
      " [0.95906145 0.59630555]]\n",
      "1\n",
      "[[0.33185814 0.87379126]\n",
      " [0.23527023 0.97292644]]\n",
      "2\n",
      "[[0.10459089 0.17728529]\n",
      " [0.07703229 0.61634907]\n",
      " [0.59326197 0.55031251]\n",
      " [0.3727076  0.13412566]\n",
      " [0.95906145 0.59630555]]\n",
      "3\n",
      "[[0.97651516 0.38924535]\n",
      " [0.38219621 0.29177383]]\n",
      "4\n",
      "[[0.01284834 0.8510421 ]\n",
      " [0.5240711  0.00280009]\n",
      " [0.57376809 0.70916748]]\n",
      "5\n",
      "[[0.38100058 0.31171956]\n",
      " [0.97800112 0.44136248]]\n",
      "6\n",
      "[[0.85343359 0.7014543 ]\n",
      " [0.62092605 0.76895277]]\n",
      "7\n",
      "[[0.03339595 0.81770391]\n",
      " [0.51084425 0.45411996]\n",
      " [0.05318635 0.84173997]\n",
      " [0.2176963  0.37236841]]\n",
      "8\n",
      "[]\n",
      "9\n",
      "[]\n"
     ]
    }
   ],
   "source": [
    "import numpy as np \n",
    "\n",
    "\n",
    "#Mimic the shape of the arrays for the Pca analysis \n",
    "label_options = np.array([x for x in range(1,10)])\n",
    "\n",
    "label_array = np.random.randint(1,10,size = 20)\n",
    "\n",
    "\n",
    "Xin = np.random.uniform(size = (20,2))\n",
    "print(label_array)\n",
    "print(Xin)\n",
    "\n",
    "#now go slice the data according to this mimic format \n",
    "\n",
    "for cluster in label_options:\n",
    "    print(cluster)\n",
    "    print(Xin[cluster == label_array,:])\n",
    "    "
   ]
  },
  {
   "cell_type": "code",
   "execution_count": null,
   "id": "e058a0f0",
   "metadata": {},
   "outputs": [],
   "source": []
  }
 ],
 "metadata": {
  "kernelspec": {
   "display_name": "Python 3 (ipykernel)",
   "language": "python",
   "name": "python3"
  },
  "language_info": {
   "codemirror_mode": {
    "name": "ipython",
    "version": 3
   },
   "file_extension": ".py",
   "mimetype": "text/x-python",
   "name": "python",
   "nbconvert_exporter": "python",
   "pygments_lexer": "ipython3",
   "version": "3.7.11"
  }
 },
 "nbformat": 4,
 "nbformat_minor": 5
}
