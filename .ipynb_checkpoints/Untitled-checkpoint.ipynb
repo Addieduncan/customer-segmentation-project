{
 "cells": [
  {
   "cell_type": "code",
   "execution_count": 1,
   "id": "ed635119",
   "metadata": {},
   "outputs": [],
   "source": [
    "\"\"\"\n",
    "Get the packages we need to handle the dataset \n",
    "\"\"\"\n",
    "import numpy as np \n",
    "import pandas as pd \n",
    "import os \n",
    "\n",
    "\n"
   ]
  },
  {
   "cell_type": "code",
   "execution_count": 2,
   "id": "a925a832",
   "metadata": {},
   "outputs": [
    {
     "name": "stdout",
     "output_type": "stream",
     "text": [
      "10\n"
     ]
    }
   ],
   "source": [
    "\"\"\"\n",
    "Specify data directory \n",
    "\"\"\"\n",
    "\n",
    "#rewrite these using os.join - the preferred way to join directories \n",
    "\n",
    "rawdata_dir = './' + 'raw_data'\n",
    "\n"
   ]
  },
  {
   "cell_type": "code",
   "execution_count": null,
   "id": "e16719f4",
   "metadata": {},
   "outputs": [],
   "source": []
  }
 ],
 "metadata": {
  "kernelspec": {
   "display_name": "Python 3 (ipykernel)",
   "language": "python",
   "name": "python3"
  },
  "language_info": {
   "codemirror_mode": {
    "name": "ipython",
    "version": 3
   },
   "file_extension": ".py",
   "mimetype": "text/x-python",
   "name": "python",
   "nbconvert_exporter": "python",
   "pygments_lexer": "ipython3",
   "version": "3.7.11"
  }
 },
 "nbformat": 4,
 "nbformat_minor": 5
}
